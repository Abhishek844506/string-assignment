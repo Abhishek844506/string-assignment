{
 "cells": [
  {
   "cell_type": "code",
   "execution_count": 7,
   "id": "4d3f2c75-cd95-455b-ac81-2b0781762769",
   "metadata": {},
   "outputs": [
    {
     "ename": "SyntaxError",
     "evalue": "unterminated string literal (detected at line 2) (731360620.py, line 2)",
     "output_type": "error",
     "traceback": [
      "\u001b[0;36m  Cell \u001b[0;32mIn[7], line 2\u001b[0;36m\u001b[0m\n\u001b[0;31m    Ans = We can store single quote (') as a string in a variable in python by using double quote as define literals, and they can\u001b[0m\n\u001b[0m                                     ^\u001b[0m\n\u001b[0;31mSyntaxError\u001b[0m\u001b[0;31m:\u001b[0m unterminated string literal (detected at line 2)\n"
     ]
    }
   ],
   "source": [
    "Q1. How can we store a single quote (') as a string in a variable?\n",
    "Ans = We can store single quote (') as a string in a variable in python by using double quote as define literals, and they can \n",
    "      contain single quotes without any issues. Below is an example:\n",
    "      my_variable = \"'\"\n",
    "      print(my_variable)\n",
    "      #output: '\n",
    "\n",
    "                                 \n",
    "Q2. Refer the below variable:\n",
    "    x = 'a'\n",
    "    Here,is x a character type or string type variable ? support your answer with an examplanation.\n",
    "Ans = The variable 'x' is a string type variable. In python, when you enclose a sequence of a characters with quotes(either single quotes or\n",
    "      double quotes), it is considered a string literal.\n",
    "      In python, a string can consist of one or more character, and it is repersented as a sequence of unicode character. So regardless the\n",
    "      length of the string,it is still considered a dtring type variable.\n",
    "      if we check the type of 'x' using 'type()' function,it would confirm that 'x' is of type 'str'.\n",
    "      Example:\n",
    "      x = 'a'\n",
    "      print(type(x))\n",
    "      #output:\n",
    "            <class 'str'>  \n",
    "\n",
    "Q3. Apply the following functions on this variable: ‘Welcome to Python foundation course'\n",
    "    1. find()\n",
    "    2. count()\n",
    "    3. len()\n",
    "    4. Concatenation\n",
    "Ans = given_variable = 'Welcome to python foundation coruse'\n",
    "      1. find()\n",
    "      print(given_variable.find('python'))\n",
    "      #output: 11\n",
    "      2. count()\n",
    "      print(given_variable.count('p'))\n",
    "      #output:  11\n",
    "      3. len()\n",
    "      print(len(given_variable))\n",
    "      #output:  32\n",
    "      4. concatenation\n",
    "      new_string = given_variable + 'Good luck!'\n",
    "      print(new_string)\n",
    "      #output: 'Welcome to python foundation course Good luck!'                           \n",
    "\n",
    "                                 \n",
    "Q4. For the variable: word = 'Panaji@12256'\n",
    "    Calculate the following:\n",
    "    (a) total number of alphabets in lowercase\n",
    "    Ans = word = 'Panaji@12256'\n",
    "            count = 0\n",
    "\n",
    "            for char in word:\n",
    "            if char.islower():\n",
    "            count += 1\n",
    "\n",
    "            print(count)  \n",
    "                                 # Output: 5\n",
    "\n",
    "    (b) Total number of alphabets in uppercase\n",
    "    Ans => word = 'Panaji@12256'\n",
    "                count = 0\n",
    "\n",
    "                for char in word:\n",
    "                if char.isdigit():\n",
    "                count += 1\n",
    "\n",
    "                print(count)  \n",
    "                                 # Output: 5\n",
    "            \n",
    "Q5. Write a code to store a numerical value inside a variable then convert it into string.\n",
    "Ans => numerical_value = 42\n",
    "        print(type(numerical_value))\n",
    "       numerical_string = str(numerical_value)\n",
    "        print(type(numerical_string)\n",
    "                                \n",
    "    \n",
    "    \n",
    "            "
   ]
  }
 ],
 "metadata": {
  "kernelspec": {
   "display_name": "Python 3 (ipykernel)",
   "language": "python",
   "name": "python3"
  },
  "language_info": {
   "codemirror_mode": {
    "name": "ipython",
    "version": 3
   },
   "file_extension": ".py",
   "mimetype": "text/x-python",
   "name": "python",
   "nbconvert_exporter": "python",
   "pygments_lexer": "ipython3",
   "version": "3.10.8"
  }
 },
 "nbformat": 4,
 "nbformat_minor": 5
}
